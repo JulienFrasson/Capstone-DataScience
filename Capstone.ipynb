{
    "nbformat_minor": 1, 
    "cells": [
        {
            "execution_count": 1, 
            "cell_type": "code", 
            "metadata": {}, 
            "outputs": [], 
            "source": "#import the pandas libary\nimport pandas as pd\n\n# import library to handle HTTP requests\nimport requests \nfrom pandas.io.json import json_normalize # tranform JSON file into a pandas dataframe"
        }
      
